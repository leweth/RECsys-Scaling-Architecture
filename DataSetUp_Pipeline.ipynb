{
 "cells": [
  {
   "cell_type": "code",
   "execution_count": 1,
   "metadata": {},
   "outputs": [],
   "source": [
    "import pandas as pd\n",
    "import findspark\n",
    "findspark.init()\n",
    "from pyspark.sql import SparkSession\n",
    "from pyspark.sql.functions import udf, pandas_udf,col, lower, regexp_replace\n",
    "from pyspark.sql.types import StructType, StructField, IntegerType, StringType, ArrayType\n",
    "from pyspark.ml.feature import CountVectorizer, StringIndexer, Tokenizer, StopWordsRemover\n",
    "from pyspark.ml.classification import LogisticRegression, RandomForestClassifier, DecisionTreeClassifier\n",
    "from pyspark.ml.evaluation import MulticlassClassificationEvaluator\n",
    "from pyspark.mllib.evaluation import MulticlassMetrics\n",
    "from sklearn.metrics import confusion_matrix\n",
    "from pyspark.ml import PipelineModel, Pipeline, Transformer\n",
    "from pyspark.ml.param.shared import HasInputCol, HasOutputCol, Param\n",
    "from pyspark.ml.util import DefaultParamsWritable, DefaultParamsReadable"
   ]
  },
  {
   "cell_type": "code",
   "execution_count": 3,
   "metadata": {},
   "outputs": [],
   "source": [
    "file_path = \"Industrial_and_Scientific_5.json.gz\""
   ]
  },
  {
   "cell_type": "code",
   "execution_count": 9,
   "metadata": {},
   "outputs": [],
   "source": [
    "import json\n",
    "import gzip\n",
    "\n",
    "def readJSON(file_path, inChunks, percentage):\n",
    "    \"\"\"\n",
    "    The readJSON function decompresses a .gz file containing list of Json\n",
    "    onjects and reads in chunks when the inChunks parameter is set to True.\n",
    "\n",
    "    :file_path: The path of the file to be read.\n",
    "    :inChunks:  If True, reads the file in chunks based on the percentage\n",
    "    parameter.\n",
    "                If False, reads the entire file.\n",
    "    :percentage: The total percentage to read from the file if inChunks is True.\n",
    "    :return: returns a list of Json objects.\n",
    "    \"\"\"\n",
    "\n",
    "    json_objects = []\n",
    "\n",
    "    if (inChunks is False):\n",
    "        precentage = 1\n",
    "\n",
    "    with gzip.open(file_path, 'rt') as f:\n",
    "        total_lines = sum(1 for line in f)\n",
    "        fraction = round(total_lines * percentage)\n",
    "\n",
    "    with gzip.open(file_path, 'rt') as f:\n",
    "        for i, line in enumerate(f):\n",
    "            if i > fraction:\n",
    "              break\n",
    "            try:\n",
    "              json_data = json.loads(line)\n",
    "              json_objects.append(json_data)\n",
    "            except json.JSONDecodeError:\n",
    "              print(f\"Error parsing line: {line}\")\n",
    "\n",
    "    return json_objects"
   ]
  },
  {
   "cell_type": "code",
   "execution_count": 10,
   "metadata": {},
   "outputs": [],
   "source": [
    "read_json = readJSON(file_path, inChunks=False, percentage=1)"
   ]
  },
  {
   "cell_type": "code",
   "execution_count": 11,
   "metadata": {},
   "outputs": [],
   "source": [
    "df1 = pd.DataFrame.from_records(read_json)"
   ]
  },
  {
   "cell_type": "code",
   "execution_count": 12,
   "metadata": {},
   "outputs": [],
   "source": [
    "del read_json"
   ]
  },
  {
   "cell_type": "code",
   "execution_count": 13,
   "metadata": {},
   "outputs": [
    {
     "data": {
      "text/html": [
       "<div>\n",
       "<style scoped>\n",
       "    .dataframe tbody tr th:only-of-type {\n",
       "        vertical-align: middle;\n",
       "    }\n",
       "\n",
       "    .dataframe tbody tr th {\n",
       "        vertical-align: top;\n",
       "    }\n",
       "\n",
       "    .dataframe thead th {\n",
       "        text-align: right;\n",
       "    }\n",
       "</style>\n",
       "<table border=\"1\" class=\"dataframe\">\n",
       "  <thead>\n",
       "    <tr style=\"text-align: right;\">\n",
       "      <th></th>\n",
       "      <th>overall</th>\n",
       "      <th>verified</th>\n",
       "      <th>reviewTime</th>\n",
       "      <th>reviewerID</th>\n",
       "      <th>asin</th>\n",
       "      <th>style</th>\n",
       "      <th>reviewerName</th>\n",
       "      <th>reviewText</th>\n",
       "      <th>summary</th>\n",
       "      <th>unixReviewTime</th>\n",
       "      <th>vote</th>\n",
       "      <th>image</th>\n",
       "    </tr>\n",
       "  </thead>\n",
       "  <tbody>\n",
       "    <tr>\n",
       "      <th>0</th>\n",
       "      <td>5.0</td>\n",
       "      <td>True</td>\n",
       "      <td>11 27, 2017</td>\n",
       "      <td>A1JB7HFWHRYHT7</td>\n",
       "      <td>B0000223SI</td>\n",
       "      <td>{'Size:': ' 1-(Pack)'}</td>\n",
       "      <td>Alex W.</td>\n",
       "      <td>This worked really well for what I used it for...</td>\n",
       "      <td>Couldn't have been happier with it's performance</td>\n",
       "      <td>1511740800</td>\n",
       "      <td>NaN</td>\n",
       "      <td>NaN</td>\n",
       "    </tr>\n",
       "    <tr>\n",
       "      <th>1</th>\n",
       "      <td>5.0</td>\n",
       "      <td>True</td>\n",
       "      <td>11 4, 2017</td>\n",
       "      <td>A2FCLJG5GV8SD6</td>\n",
       "      <td>B0000223SI</td>\n",
       "      <td>{'Size:': ' 1-(Pack)'}</td>\n",
       "      <td>Randall Harris</td>\n",
       "      <td>Fast cutting and good adheasive.</td>\n",
       "      <td>Good paper.</td>\n",
       "      <td>1509753600</td>\n",
       "      <td>NaN</td>\n",
       "      <td>NaN</td>\n",
       "    </tr>\n",
       "    <tr>\n",
       "      <th>2</th>\n",
       "      <td>5.0</td>\n",
       "      <td>False</td>\n",
       "      <td>10 27, 2017</td>\n",
       "      <td>A3IT9B33NWYQSL</td>\n",
       "      <td>B0000223SI</td>\n",
       "      <td>{'Size:': ' 1-(Pack)'}</td>\n",
       "      <td>A. C.</td>\n",
       "      <td>Worked great for my lapping bench.  I would li...</td>\n",
       "      <td>Handy!</td>\n",
       "      <td>1509062400</td>\n",
       "      <td>NaN</td>\n",
       "      <td>NaN</td>\n",
       "    </tr>\n",
       "    <tr>\n",
       "      <th>3</th>\n",
       "      <td>4.0</td>\n",
       "      <td>True</td>\n",
       "      <td>01 13, 2018</td>\n",
       "      <td>AUL5LCV4TT73P</td>\n",
       "      <td>B0000223SK</td>\n",
       "      <td>{'Size:': ' 1-Pack'}</td>\n",
       "      <td>TnT</td>\n",
       "      <td>As advertised</td>\n",
       "      <td>As advertised</td>\n",
       "      <td>1515801600</td>\n",
       "      <td>NaN</td>\n",
       "      <td>NaN</td>\n",
       "    </tr>\n",
       "    <tr>\n",
       "      <th>4</th>\n",
       "      <td>5.0</td>\n",
       "      <td>True</td>\n",
       "      <td>10 7, 2017</td>\n",
       "      <td>A1V3I3L5JKO7TM</td>\n",
       "      <td>B0000223SK</td>\n",
       "      <td>{'Size:': ' 1-Pack'}</td>\n",
       "      <td>John Jones</td>\n",
       "      <td>seems like a pretty good value as opposed to b...</td>\n",
       "      <td>seems like a pretty good value as opposed to b...</td>\n",
       "      <td>1507334400</td>\n",
       "      <td>NaN</td>\n",
       "      <td>NaN</td>\n",
       "    </tr>\n",
       "  </tbody>\n",
       "</table>\n",
       "</div>"
      ],
      "text/plain": [
       "   overall  verified   reviewTime      reviewerID        asin  \\\n",
       "0      5.0      True  11 27, 2017  A1JB7HFWHRYHT7  B0000223SI   \n",
       "1      5.0      True   11 4, 2017  A2FCLJG5GV8SD6  B0000223SI   \n",
       "2      5.0     False  10 27, 2017  A3IT9B33NWYQSL  B0000223SI   \n",
       "3      4.0      True  01 13, 2018   AUL5LCV4TT73P  B0000223SK   \n",
       "4      5.0      True   10 7, 2017  A1V3I3L5JKO7TM  B0000223SK   \n",
       "\n",
       "                    style    reviewerName  \\\n",
       "0  {'Size:': ' 1-(Pack)'}         Alex W.   \n",
       "1  {'Size:': ' 1-(Pack)'}  Randall Harris   \n",
       "2  {'Size:': ' 1-(Pack)'}           A. C.   \n",
       "3    {'Size:': ' 1-Pack'}             TnT   \n",
       "4    {'Size:': ' 1-Pack'}      John Jones   \n",
       "\n",
       "                                          reviewText  \\\n",
       "0  This worked really well for what I used it for...   \n",
       "1                   Fast cutting and good adheasive.   \n",
       "2  Worked great for my lapping bench.  I would li...   \n",
       "3                                      As advertised   \n",
       "4  seems like a pretty good value as opposed to b...   \n",
       "\n",
       "                                             summary  unixReviewTime vote  \\\n",
       "0   Couldn't have been happier with it's performance      1511740800  NaN   \n",
       "1                                        Good paper.      1509753600  NaN   \n",
       "2                                             Handy!      1509062400  NaN   \n",
       "3                                      As advertised      1515801600  NaN   \n",
       "4  seems like a pretty good value as opposed to b...      1507334400  NaN   \n",
       "\n",
       "  image  \n",
       "0   NaN  \n",
       "1   NaN  \n",
       "2   NaN  \n",
       "3   NaN  \n",
       "4   NaN  "
      ]
     },
     "execution_count": 13,
     "metadata": {},
     "output_type": "execute_result"
    }
   ],
   "source": [
    "df1.head()"
   ]
  },
  {
   "cell_type": "code",
   "execution_count": 76,
   "metadata": {},
   "outputs": [],
   "source": [
    "df1.drop(columns=['verified', 'reviewTime', 'style', 'reviewerName', 'reviewText', \n",
    "\t\t\t\t  'summary', 'unixReviewTime', 'vote', 'image'], inplace=True)"
   ]
  },
  {
   "cell_type": "code",
   "execution_count": 77,
   "metadata": {},
   "outputs": [
    {
     "data": {
      "text/plain": [
       "overall       float64\n",
       "reviewerID     object\n",
       "asin           object\n",
       "dtype: object"
      ]
     },
     "execution_count": 77,
     "metadata": {},
     "output_type": "execute_result"
    }
   ],
   "source": [
    "df1.dtypes"
   ]
  },
  {
   "cell_type": "code",
   "execution_count": 14,
   "metadata": {},
   "outputs": [
    {
     "data": {
      "text/plain": [
       "Index(['overall', 'verified', 'reviewTime', 'reviewerID', 'asin', 'style',\n",
       "       'reviewerName', 'reviewText', 'summary', 'unixReviewTime', 'vote',\n",
       "       'image'],\n",
       "      dtype='object')"
      ]
     },
     "execution_count": 14,
     "metadata": {},
     "output_type": "execute_result"
    }
   ],
   "source": [
    "df1.columns"
   ]
  },
  {
   "cell_type": "code",
   "execution_count": 78,
   "metadata": {},
   "outputs": [],
   "source": [
    "from pyspark.sql.types import StructType, StructField, DoubleType, StringType\n",
    "\n",
    "# Define the schema\n",
    "schema = StructType([\n",
    "    StructField(\"overall\", DoubleType(), True),\n",
    "    StructField(\"reviewerID\", StringType(), True),\n",
    "    StructField(\"asin\", StringType(), True)\n",
    "])\n",
    "\n",
    "# Convert the pandas DataFrame to a Spark DataFrame with the defined schema\n",
    "data = spark.createDataFrame(df1, schema=schema)"
   ]
  },
  {
   "cell_type": "code",
   "execution_count": 2,
   "metadata": {},
   "outputs": [
    {
     "name": "stderr",
     "output_type": "stream",
     "text": [
      "your 131072x1 screen size is bogus. expect trouble\n",
      "24/05/28 08:40:47 WARN Utils: Your hostname, MedWalid resolves to a loopback address: 127.0.1.1; using 172.19.159.144 instead (on interface eth0)\n",
      "24/05/28 08:40:47 WARN Utils: Set SPARK_LOCAL_IP if you need to bind to another address\n",
      "Setting default log level to \"WARN\".\n",
      "To adjust logging level use sc.setLogLevel(newLevel). For SparkR, use setLogLevel(newLevel).\n",
      "24/05/28 08:40:51 WARN NativeCodeLoader: Unable to load native-hadoop library for your platform... using builtin-java classes where applicable\n"
     ]
    }
   ],
   "source": [
    "# Create a SparkSession\n",
    "spark = SparkSession.builder \\\n",
    "    .appName(\"Recommendation System with Spark\") \\\n",
    "    .getOrCreate()"
   ]
  },
  {
   "cell_type": "code",
   "execution_count": 79,
   "metadata": {},
   "outputs": [
    {
     "name": "stderr",
     "output_type": "stream",
     "text": [
      "[Stage 52:>                                                         (0 + 1) / 1]\r"
     ]
    },
    {
     "name": "stdout",
     "output_type": "stream",
     "text": [
      "+-------+--------------+----------+\n",
      "|overall|    reviewerID|      asin|\n",
      "+-------+--------------+----------+\n",
      "|    5.0|A1JB7HFWHRYHT7|B0000223SI|\n",
      "|    5.0|A2FCLJG5GV8SD6|B0000223SI|\n",
      "|    5.0|A3IT9B33NWYQSL|B0000223SI|\n",
      "|    4.0| AUL5LCV4TT73P|B0000223SK|\n",
      "|    5.0|A1V3I3L5JKO7TM|B0000223SK|\n",
      "|    5.0|A20X7NCNZ7T5ZK|B0000223SK|\n",
      "|    5.0|A3OBWQ8DTRLW2Q|B0000223SI|\n",
      "|    5.0|A398INYG0ZBUZB|B0000223SK|\n",
      "|    5.0| AEBM08OO8Y9BJ|B0000223SK|\n",
      "|    4.0|A358U1JEA514P6|B0000223SI|\n",
      "|    5.0|A1Z584ZH824BU1|B0000223SI|\n",
      "|    5.0|A3OBWQ8DTRLW2Q|B0000223SK|\n",
      "|    5.0|A2B40VHCBDLC43|B0000223SK|\n",
      "|    5.0|A34O4UAC27ECL6|B0000223SI|\n",
      "|    5.0| ACDP5UBE4ZW3T|B0000223SI|\n",
      "|    3.0|A11MN6521EQ9QD|B0000223SK|\n",
      "|    4.0|A358U1JEA514P6|B0000223SK|\n",
      "|    4.0| AAEPD6U1H2X37|B0000223SK|\n",
      "|    5.0|A1ICJY2HU1QLS1|B0000223SK|\n",
      "|    4.0|A1XUBWNW0UFITU|B0000223SK|\n",
      "+-------+--------------+----------+\n",
      "only showing top 20 rows\n",
      "\n"
     ]
    },
    {
     "name": "stderr",
     "output_type": "stream",
     "text": [
      "                                                                                \r"
     ]
    }
   ],
   "source": [
    "data.show()"
   ]
  },
  {
   "cell_type": "code",
   "execution_count": 80,
   "metadata": {},
   "outputs": [
    {
     "name": "stdout",
     "output_type": "stream",
     "text": [
      "root\n",
      " |-- overall: double (nullable = true)\n",
      " |-- reviewerID: string (nullable = true)\n",
      " |-- asin: string (nullable = true)\n",
      "\n"
     ]
    }
   ],
   "source": [
    "data.printSchema()"
   ]
  },
  {
   "cell_type": "code",
   "execution_count": 81,
   "metadata": {
    "vscode": {
     "languageId": "ruby"
    }
   },
   "outputs": [],
   "source": [
    "# Rename multiple columns\n",
    "data = data.withColumnRenamed(\"overall\", \"rating\").withColumnRenamed(\"reviewerID\", \"userID\").withColumnRenamed(\"asin\", \"productID\")"
   ]
  },
  {
   "cell_type": "code",
   "execution_count": 82,
   "metadata": {
    "vscode": {
     "languageId": "ruby"
    }
   },
   "outputs": [
    {
     "name": "stdout",
     "output_type": "stream",
     "text": [
      "+------+--------------+----------+\n",
      "|rating|        userID| productID|\n",
      "+------+--------------+----------+\n",
      "|   5.0|A1JB7HFWHRYHT7|B0000223SI|\n",
      "|   5.0|A2FCLJG5GV8SD6|B0000223SI|\n",
      "|   5.0|A3IT9B33NWYQSL|B0000223SI|\n",
      "|   4.0| AUL5LCV4TT73P|B0000223SK|\n",
      "|   5.0|A1V3I3L5JKO7TM|B0000223SK|\n",
      "|   5.0|A20X7NCNZ7T5ZK|B0000223SK|\n",
      "|   5.0|A3OBWQ8DTRLW2Q|B0000223SI|\n",
      "|   5.0|A398INYG0ZBUZB|B0000223SK|\n",
      "|   5.0| AEBM08OO8Y9BJ|B0000223SK|\n",
      "|   4.0|A358U1JEA514P6|B0000223SI|\n",
      "|   5.0|A1Z584ZH824BU1|B0000223SI|\n",
      "|   5.0|A3OBWQ8DTRLW2Q|B0000223SK|\n",
      "|   5.0|A2B40VHCBDLC43|B0000223SK|\n",
      "|   5.0|A34O4UAC27ECL6|B0000223SI|\n",
      "|   5.0| ACDP5UBE4ZW3T|B0000223SI|\n",
      "|   3.0|A11MN6521EQ9QD|B0000223SK|\n",
      "|   4.0|A358U1JEA514P6|B0000223SK|\n",
      "|   4.0| AAEPD6U1H2X37|B0000223SK|\n",
      "|   5.0|A1ICJY2HU1QLS1|B0000223SK|\n",
      "|   4.0|A1XUBWNW0UFITU|B0000223SK|\n",
      "+------+--------------+----------+\n",
      "only showing top 20 rows\n",
      "\n"
     ]
    }
   ],
   "source": [
    "data.show()"
   ]
  },
  {
   "cell_type": "code",
   "execution_count": 83,
   "metadata": {
    "vscode": {
     "languageId": "ruby"
    }
   },
   "outputs": [
    {
     "name": "stderr",
     "output_type": "stream",
     "text": [
      "                                                                                \r"
     ]
    }
   ],
   "source": [
    "from pyspark.ml.feature import StringIndexer\n",
    "\n",
    "# Assuming df is your DataFrame and \"userID\" is the column to be indexed\n",
    "indexer = StringIndexer(inputCol=\"userID\", outputCol=\"userIDIndex\")\n",
    "data = indexer.fit(data).transform(data)"
   ]
  },
  {
   "cell_type": "code",
   "execution_count": 84,
   "metadata": {
    "vscode": {
     "languageId": "ruby"
    }
   },
   "outputs": [
    {
     "name": "stderr",
     "output_type": "stream",
     "text": [
      "                                                                                \r"
     ]
    }
   ],
   "source": [
    "from pyspark.ml.feature import StringIndexer\n",
    "\n",
    "# Assuming df is your DataFrame and \"userID\" is the column to be indexed\n",
    "indexer = StringIndexer(inputCol=\"productID\", outputCol=\"productIDIndex\")\n",
    "data = indexer.fit(data).transform(data)"
   ]
  },
  {
   "cell_type": "code",
   "execution_count": 85,
   "metadata": {
    "vscode": {
     "languageId": "ruby"
    }
   },
   "outputs": [
    {
     "name": "stdout",
     "output_type": "stream",
     "text": [
      "+------+--------------+----------+-----------+--------------+\n",
      "|rating|        userID| productID|userIDIndex|productIDIndex|\n",
      "+------+--------------+----------+-----------+--------------+\n",
      "|   5.0|A1JB7HFWHRYHT7|B0000223SI|     1078.0|        1465.0|\n",
      "|   5.0|A2FCLJG5GV8SD6|B0000223SI|     8222.0|        1465.0|\n",
      "|   5.0|A3IT9B33NWYQSL|B0000223SI|     5689.0|        1465.0|\n",
      "|   4.0| AUL5LCV4TT73P|B0000223SK|     1371.0|         720.0|\n",
      "|   5.0|A1V3I3L5JKO7TM|B0000223SK|     7535.0|         720.0|\n",
      "|   5.0|A20X7NCNZ7T5ZK|B0000223SK|     7742.0|         720.0|\n",
      "|   5.0|A3OBWQ8DTRLW2Q|B0000223SI|     5800.0|        1465.0|\n",
      "|   5.0|A398INYG0ZBUZB|B0000223SK|      153.0|         720.0|\n",
      "|   5.0| AEBM08OO8Y9BJ|B0000223SK|     1814.0|         720.0|\n",
      "|   4.0|A358U1JEA514P6|B0000223SI|     3527.0|        1465.0|\n",
      "|   5.0|A1Z584ZH824BU1|B0000223SI|     7669.0|        1465.0|\n",
      "|   5.0|A3OBWQ8DTRLW2Q|B0000223SK|     5800.0|         720.0|\n",
      "|   5.0|A2B40VHCBDLC43|B0000223SK|     4949.0|         720.0|\n",
      "|   5.0|A34O4UAC27ECL6|B0000223SI|     3515.0|        1465.0|\n",
      "|   5.0| ACDP5UBE4ZW3T|B0000223SI|    10232.0|        1465.0|\n",
      "|   3.0|A11MN6521EQ9QD|B0000223SK|     6548.0|         720.0|\n",
      "|   4.0|A358U1JEA514P6|B0000223SK|     3527.0|         720.0|\n",
      "|   4.0| AAEPD6U1H2X37|B0000223SK|     3879.0|         720.0|\n",
      "|   5.0|A1ICJY2HU1QLS1|B0000223SK|     7113.0|         720.0|\n",
      "|   4.0|A1XUBWNW0UFITU|B0000223SK|     1526.0|         720.0|\n",
      "+------+--------------+----------+-----------+--------------+\n",
      "only showing top 20 rows\n",
      "\n"
     ]
    }
   ],
   "source": [
    "data.show()"
   ]
  },
  {
   "cell_type": "code",
   "execution_count": 86,
   "metadata": {
    "vscode": {
     "languageId": "ruby"
    }
   },
   "outputs": [],
   "source": [
    "specific_line = data.limit(1).collect()[0]"
   ]
  },
  {
   "cell_type": "code",
   "execution_count": 87,
   "metadata": {
    "vscode": {
     "languageId": "ruby"
    }
   },
   "outputs": [
    {
     "data": {
      "text/plain": [
       "Row(rating=5.0, userID='A1JB7HFWHRYHT7', productID='B0000223SI', userIDIndex=1078.0, productIDIndex=1465.0)"
      ]
     },
     "execution_count": 87,
     "metadata": {},
     "output_type": "execute_result"
    }
   ],
   "source": [
    "specific_line"
   ]
  },
  {
   "cell_type": "code",
   "execution_count": 88,
   "metadata": {
    "vscode": {
     "languageId": "ruby"
    }
   },
   "outputs": [
    {
     "name": "stderr",
     "output_type": "stream",
     "text": [
      "                                                                                \r"
     ]
    },
    {
     "data": {
      "text/plain": [
       "77071"
      ]
     },
     "execution_count": 88,
     "metadata": {},
     "output_type": "execute_result"
    }
   ],
   "source": [
    "num_rows = data.count()\n",
    "num_rows"
   ]
  },
  {
   "cell_type": "code",
   "execution_count": 89,
   "metadata": {
    "vscode": {
     "languageId": "ruby"
    }
   },
   "outputs": [],
   "source": [
    "data = data.dropna().drop_duplicates()"
   ]
  },
  {
   "cell_type": "code",
   "execution_count": 90,
   "metadata": {
    "vscode": {
     "languageId": "ruby"
    }
   },
   "outputs": [
    {
     "name": "stderr",
     "output_type": "stream",
     "text": [
      "                                                                                \r"
     ]
    },
    {
     "data": {
      "text/plain": [
       "72131"
      ]
     },
     "execution_count": 90,
     "metadata": {},
     "output_type": "execute_result"
    }
   ],
   "source": [
    "num_rows = data.count()\n",
    "num_rows"
   ]
  },
  {
   "cell_type": "code",
   "execution_count": 91,
   "metadata": {
    "vscode": {
     "languageId": "ruby"
    }
   },
   "outputs": [],
   "source": [
    "from pyspark.ml.evaluation import RegressionEvaluator\n",
    "from pyspark.ml.recommendation import ALS"
   ]
  },
  {
   "cell_type": "code",
   "execution_count": 103,
   "metadata": {
    "vscode": {
     "languageId": "ruby"
    }
   },
   "outputs": [],
   "source": [
    "(train, test) = data.randomSplit([0.7, 0.3])"
   ]
  },
  {
   "cell_type": "code",
   "execution_count": 104,
   "metadata": {
    "vscode": {
     "languageId": "ruby"
    }
   },
   "outputs": [],
   "source": [
    "als = ALS(maxIter=5, regParam=0.01, userCol=\"userIDIndex\", itemCol=\"productIDIndex\", ratingCol=\"rating\",\n",
    "          coldStartStrategy=\"drop\")"
   ]
  },
  {
   "cell_type": "code",
   "execution_count": 105,
   "metadata": {
    "vscode": {
     "languageId": "ruby"
    }
   },
   "outputs": [
    {
     "name": "stderr",
     "output_type": "stream",
     "text": [
      "                                                                                \r"
     ]
    }
   ],
   "source": [
    "model = als.fit(train)"
   ]
  },
  {
   "cell_type": "code",
   "execution_count": 106,
   "metadata": {
    "vscode": {
     "languageId": "ruby"
    }
   },
   "outputs": [],
   "source": [
    "predictions = model.transform(test)"
   ]
  },
  {
   "cell_type": "code",
   "execution_count": 107,
   "metadata": {
    "vscode": {
     "languageId": "ruby"
    }
   },
   "outputs": [
    {
     "name": "stderr",
     "output_type": "stream",
     "text": [
      "[Stage 274:>  (0 + 8) / 8][Stage 289:> (0 + 0) / 10][Stage 290:> (0 + 0) / 10]0]\r"
     ]
    },
    {
     "name": "stderr",
     "output_type": "stream",
     "text": [
      "                                                                                \r"
     ]
    },
    {
     "name": "stdout",
     "output_type": "stream",
     "text": [
      "Root-mean-square error = 5.709008848948894\n"
     ]
    }
   ],
   "source": [
    "evaluator = RegressionEvaluator(metricName=\"rmse\", labelCol=\"rating\",\n",
    "                                predictionCol=\"prediction\")\n",
    "rmse = evaluator.evaluate(predictions)\n",
    "print(\"Root-mean-square error = \" + str(rmse))"
   ]
  },
  {
   "cell_type": "code",
   "execution_count": 108,
   "metadata": {
    "vscode": {
     "languageId": "ruby"
    }
   },
   "outputs": [
    {
     "name": "stderr",
     "output_type": "stream",
     "text": [
      "                                                                                \r"
     ]
    }
   ],
   "source": [
    "data.coalesce(1).write.option('header', 'true').csv('forKafkatesting.csv')"
   ]
  }
 ],
 "metadata": {
  "kernelspec": {
   "display_name": "Python 3",
   "language": "python",
   "name": "python3"
  },
  "language_info": {
   "codemirror_mode": {
    "name": "ipython",
    "version": 3
   },
   "file_extension": ".py",
   "mimetype": "text/x-python",
   "name": "python",
   "nbconvert_exporter": "python",
   "pygments_lexer": "ipython3",
   "version": "3.10.12"
  }
 },
 "nbformat": 4,
 "nbformat_minor": 2
}
